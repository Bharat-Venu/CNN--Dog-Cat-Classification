{
 "cells": [
  {
   "cell_type": "code",
   "execution_count": 1,
   "id": "39ef19db-ea17-461a-a07c-9b374f8d6b02",
   "metadata": {},
   "outputs": [
    {
     "name": "stderr",
     "output_type": "stream",
     "text": [
      "2025-08-21 11:16:49.328722: E external/local_xla/xla/stream_executor/cuda/cuda_dnn.cc:9261] Unable to register cuDNN factory: Attempting to register factory for plugin cuDNN when one has already been registered\n",
      "2025-08-21 11:16:49.328849: E external/local_xla/xla/stream_executor/cuda/cuda_fft.cc:607] Unable to register cuFFT factory: Attempting to register factory for plugin cuFFT when one has already been registered\n",
      "2025-08-21 11:16:49.405406: E external/local_xla/xla/stream_executor/cuda/cuda_blas.cc:1515] Unable to register cuBLAS factory: Attempting to register factory for plugin cuBLAS when one has already been registered\n",
      "2025-08-21 11:16:49.554604: I tensorflow/core/platform/cpu_feature_guard.cc:182] This TensorFlow binary is optimized to use available CPU instructions in performance-critical operations.\n",
      "To enable the following instructions: AVX2 FMA, in other operations, rebuild TensorFlow with the appropriate compiler flags.\n",
      "2025-08-21 11:16:50.866433: W tensorflow/compiler/tf2tensorrt/utils/py_utils.cc:38] TF-TRT Warning: Could not find TensorRT\n"
     ]
    }
   ],
   "source": [
    "from tensorflow.keras.applications import MobileNetV2\n",
    "from tensorflow.keras.models import Sequential\n",
    "from tensorflow.keras.layers import Dense, GlobalAveragePooling2D\n",
    "from tensorflow.keras.preprocessing.image import ImageDataGenerator\n",
    "from tensorflow.keras.optimizers import Adam\n"
   ]
  },
  {
   "cell_type": "code",
   "execution_count": 2,
   "id": "3fae848c-c011-4c2a-bdb1-d29d51d54f41",
   "metadata": {},
   "outputs": [],
   "source": [
    "train_datagen = ImageDataGenerator(rescale=1./255, validation_split=0.2)\n"
   ]
  },
  {
   "cell_type": "code",
   "execution_count": 3,
   "id": "02e3e2b4-5467-4cfe-9905-3b275d33fef0",
   "metadata": {},
   "outputs": [
    {
     "name": "stdout",
     "output_type": "stream",
     "text": [
      "Found 6400 images belonging to 2 classes.\n"
     ]
    }
   ],
   "source": [
    "train_generator = train_datagen.flow_from_directory(\n",
    "    'dataset/training_set',\n",
    "    target_size=(224,224),\n",
    "    batch_size=32,\n",
    "    class_mode='binary',\n",
    "    subset='training'\n",
    ")"
   ]
  },
  {
   "cell_type": "code",
   "execution_count": 12,
   "id": "65984bd8-8477-49bf-8ead-2fbbec6a387c",
   "metadata": {},
   "outputs": [
    {
     "name": "stdout",
     "output_type": "stream",
     "text": [
      "Found 400 images belonging to 2 classes.\n"
     ]
    }
   ],
   "source": [
    "test_datagen=ImageDataGenerator(rescale=1./255, validation_split=0.2)\n",
    "test_generator=test_datagen.flow_from_directory('dataset/test_set',target_size=(224,224),batch_size=32,class_mode='binary',subset='validation'\n",
    ")"
   ]
  },
  {
   "cell_type": "code",
   "execution_count": 7,
   "id": "5285885d-53b5-4a68-a3bd-f48c830f40df",
   "metadata": {},
   "outputs": [
    {
     "name": "stdout",
     "output_type": "stream",
     "text": [
      "Downloading data from https://storage.googleapis.com/tensorflow/keras-applications/mobilenet_v2/mobilenet_v2_weights_tf_dim_ordering_tf_kernels_1.0_224_no_top.h5\n",
      "9406464/9406464 [==============================] - 3s 0us/step\n"
     ]
    }
   ],
   "source": [
    "base_model = MobileNetV2(weights=\"imagenet\", include_top=False, input_shape=(224,224,3))\n",
    "base_model.trainable = False  "
   ]
  },
  {
   "cell_type": "code",
   "execution_count": 8,
   "id": "f9c65877-c5ff-4e3a-970a-1154d8ed0a6b",
   "metadata": {},
   "outputs": [],
   "source": [
    "model_mobilenet = Sequential([\n",
    "    base_model,\n",
    "    GlobalAveragePooling2D(),\n",
    "    Dense(128, activation='relu'),\n",
    "    Dense(1, activation='sigmoid')\n",
    "])"
   ]
  },
  {
   "cell_type": "code",
   "execution_count": 9,
   "id": "fe38ebb7-38d6-41e9-8898-42fbc0a4a685",
   "metadata": {},
   "outputs": [],
   "source": [
    "model_mobilenet.compile(optimizer=Adam(1e-4), loss=\"binary_crossentropy\", metrics=[\"accuracy\"])\n"
   ]
  },
  {
   "cell_type": "code",
   "execution_count": 13,
   "id": "da581d11-e7dc-48a7-ae1b-b31aa792ef1d",
   "metadata": {},
   "outputs": [
    {
     "name": "stdout",
     "output_type": "stream",
     "text": [
      "Epoch 1/5\n"
     ]
    },
    {
     "name": "stderr",
     "output_type": "stream",
     "text": [
      "2025-08-21 11:20:22.975923: W external/local_tsl/tsl/framework/cpu_allocator_impl.cc:83] Allocation of 19267584 exceeds 10% of free system memory.\n",
      "2025-08-21 11:20:26.155554: W external/local_tsl/tsl/framework/cpu_allocator_impl.cc:83] Allocation of 19267584 exceeds 10% of free system memory.\n",
      "2025-08-21 11:20:26.176599: W external/local_tsl/tsl/framework/cpu_allocator_impl.cc:83] Allocation of 51380224 exceeds 10% of free system memory.\n",
      "2025-08-21 11:20:26.279169: W external/local_tsl/tsl/framework/cpu_allocator_impl.cc:83] Allocation of 51380224 exceeds 10% of free system memory.\n",
      "2025-08-21 11:20:26.338643: W external/local_tsl/tsl/framework/cpu_allocator_impl.cc:83] Allocation of 51380224 exceeds 10% of free system memory.\n"
     ]
    },
    {
     "name": "stdout",
     "output_type": "stream",
     "text": [
      "200/200 [==============================] - 257s 1s/step - loss: 0.1348 - accuracy: 0.9542 - val_loss: 0.0697 - val_accuracy: 0.9825\n",
      "Epoch 2/5\n",
      "200/200 [==============================] - 253s 1s/step - loss: 0.0571 - accuracy: 0.9800 - val_loss: 0.0613 - val_accuracy: 0.9825\n",
      "Epoch 3/5\n",
      "200/200 [==============================] - 253s 1s/step - loss: 0.0461 - accuracy: 0.9837 - val_loss: 0.0573 - val_accuracy: 0.9800\n",
      "Epoch 4/5\n",
      "200/200 [==============================] - 271s 1s/step - loss: 0.0388 - accuracy: 0.9869 - val_loss: 0.0532 - val_accuracy: 0.9825\n",
      "Epoch 5/5\n",
      "200/200 [==============================] - 234s 1s/step - loss: 0.0324 - accuracy: 0.9892 - val_loss: 0.0565 - val_accuracy: 0.9850\n"
     ]
    }
   ],
   "source": [
    "history_mobilenet = model_mobilenet.fit(train_generator, validation_data=test_generator, epochs=5)\n"
   ]
  },
  {
   "cell_type": "code",
   "execution_count": 27,
   "id": "5a5dbf2d-4a05-41ab-9483-66290b2332c0",
   "metadata": {},
   "outputs": [
    {
     "name": "stdout",
     "output_type": "stream",
     "text": [
      "1/1 [==============================] - 0s 49ms/step\n"
     ]
    }
   ],
   "source": [
    "import numpy as np\n",
    "from keras.preprocessing import image\n",
    "test_image=image.load_img('dataset/single_prediction/cat_or_dog_1.jpg',target_size=(224,224))\n",
    "test_image=image.img_to_array(test_image)\n",
    "test_image=np.expand_dims(test_image,axis=0)\n",
    "result=model_mobilenet.predict(test_image)\n",
    "train_generator.class_indices\n",
    "if result[0][0] > 0.5:\n",
    "    prediction = \"Dog\"\n",
    "else:\n",
    "    prediction = \"Cat\"\n"
   ]
  },
  {
   "cell_type": "code",
   "execution_count": 28,
   "id": "08cc6ad7-dda7-4f39-9d03-e784cb59dcfd",
   "metadata": {},
   "outputs": [
    {
     "name": "stdout",
     "output_type": "stream",
     "text": [
      "Dog\n"
     ]
    }
   ],
   "source": [
    "print(prediction)"
   ]
  },
  {
   "cell_type": "code",
   "execution_count": 30,
   "id": "5f120fe0-8574-4f10-8e7b-fa6be3b5059f",
   "metadata": {},
   "outputs": [
    {
     "name": "stderr",
     "output_type": "stream",
     "text": [
      "/home/user/.local/lib/python3.10/site-packages/keras/src/engine/training.py:3103: UserWarning: You are saving your model as an HDF5 file via `model.save()`. This file format is considered legacy. We recommend using instead the native Keras format, e.g. `model.save('my_model.keras')`.\n",
      "  saving_api.save_model(\n"
     ]
    }
   ],
   "source": [
    "# Suppose your model is named `model`\n",
    "model_mobilenet.save(\"model/mobileNet_model.h5\")\n"
   ]
  },
  {
   "cell_type": "code",
   "execution_count": null,
   "id": "16cd7b0f-3c84-4bcd-83f8-e51d2b6d497c",
   "metadata": {},
   "outputs": [],
   "source": []
  }
 ],
 "metadata": {
  "kernelspec": {
   "display_name": "Python 3 (ipykernel)",
   "language": "python",
   "name": "python3"
  },
  "language_info": {
   "codemirror_mode": {
    "name": "ipython",
    "version": 3
   },
   "file_extension": ".py",
   "mimetype": "text/x-python",
   "name": "python",
   "nbconvert_exporter": "python",
   "pygments_lexer": "ipython3",
   "version": "3.10.12"
  }
 },
 "nbformat": 4,
 "nbformat_minor": 5
}
