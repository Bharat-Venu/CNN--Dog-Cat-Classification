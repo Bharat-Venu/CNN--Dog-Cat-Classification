{
 "cells": [
  {
   "cell_type": "code",
   "execution_count": null,
   "metadata": {
    "id": "qRFeODfejVe8"
   },
   "outputs": [],
   "source": []
  },
  {
   "cell_type": "code",
   "execution_count": null,
   "metadata": {
    "id": "70AmiKa-ZoCm"
   },
   "outputs": [],
   "source": [
    "\n"
   ]
  },
  {
   "cell_type": "markdown",
   "metadata": {
    "id": "8UUYXo2kdtc2"
   },
   "source": [
    "# Convolution Neural Network"
   ]
  },
  {
   "cell_type": "markdown",
   "metadata": {
    "id": "xXqh_R0ndx62"
   },
   "source": [
    "## Importing the libraries"
   ]
  },
  {
   "cell_type": "code",
   "execution_count": 1,
   "metadata": {
    "id": "sJ9GWTmljl97"
   },
   "outputs": [
    {
     "name": "stderr",
     "output_type": "stream",
     "text": [
      "2025-08-17 21:55:11.617515: E external/local_xla/xla/stream_executor/cuda/cuda_dnn.cc:9261] Unable to register cuDNN factory: Attempting to register factory for plugin cuDNN when one has already been registered\n",
      "2025-08-17 21:55:11.617573: E external/local_xla/xla/stream_executor/cuda/cuda_fft.cc:607] Unable to register cuFFT factory: Attempting to register factory for plugin cuFFT when one has already been registered\n",
      "2025-08-17 21:55:11.619095: E external/local_xla/xla/stream_executor/cuda/cuda_blas.cc:1515] Unable to register cuBLAS factory: Attempting to register factory for plugin cuBLAS when one has already been registered\n",
      "2025-08-17 21:55:11.627501: I tensorflow/core/platform/cpu_feature_guard.cc:182] This TensorFlow binary is optimized to use available CPU instructions in performance-critical operations.\n",
      "To enable the following instructions: AVX2 FMA, in other operations, rebuild TensorFlow with the appropriate compiler flags.\n",
      "2025-08-17 21:55:13.264363: W tensorflow/compiler/tf2tensorrt/utils/py_utils.cc:38] TF-TRT Warning: Could not find TensorRT\n"
     ]
    }
   ],
   "source": [
    "import tensorflow as tf\n",
    "\n",
    "from tensorflow.keras.preprocessing.image import ImageDataGenerator"
   ]
  },
  {
   "cell_type": "code",
   "execution_count": 2,
   "metadata": {
    "colab": {
     "base_uri": "https://localhost:8080/",
     "height": 35
    },
    "id": "J-0uBCIbj4up",
    "outputId": "8e43c388-a9f7-43a5-97ac-6b0f3bdf98de"
   },
   "outputs": [
    {
     "data": {
      "text/plain": [
       "'2.15.0'"
      ]
     },
     "execution_count": 2,
     "metadata": {},
     "output_type": "execute_result"
    }
   ],
   "source": [
    "tf.__version__"
   ]
  },
  {
   "cell_type": "markdown",
   "metadata": {
    "id": "SGygn4WydGfA"
   },
   "source": [
    "## Part 1 - Data Preprocessing"
   ]
  },
  {
   "cell_type": "code",
   "execution_count": 3,
   "metadata": {
    "colab": {
     "base_uri": "https://localhost:8080/",
     "height": 391
    },
    "id": "oFJC0PxyjYow",
    "outputId": "4396e544-f858-4093-d36a-18fa4d9cf648"
   },
   "outputs": [
    {
     "name": "stdout",
     "output_type": "stream",
     "text": [
      "Found 8000 images belonging to 2 classes.\n"
     ]
    }
   ],
   "source": [
    "train_datagen=ImageDataGenerator(rescale=1./255,shear_range=0.2,zoom_range=0.2,horizontal_flip=True)\n",
    "training_set=train_datagen.flow_from_directory('dataset/training_set',target_size=(64,64),batch_size=32,class_mode='binary')"
   ]
  },
  {
   "cell_type": "code",
   "execution_count": 4,
   "metadata": {
    "id": "O_MlqBt1kcoN"
   },
   "outputs": [
    {
     "name": "stdout",
     "output_type": "stream",
     "text": [
      "Found 2000 images belonging to 2 classes.\n"
     ]
    }
   ],
   "source": [
    "test_datagen=ImageDataGenerator(rescale=1./255)\n",
    "test_set=test_datagen.flow_from_directory('dataset/test_set',target_size=(64,64),batch_size=32,class_mode='binary')"
   ]
  },
  {
   "cell_type": "markdown",
   "metadata": {
    "id": "32rGn5vedNoK"
   },
   "source": [
    "### Preprocessng the training set"
   ]
  },
  {
   "cell_type": "markdown",
   "metadata": {
    "id": "ZM4RduqddU18"
   },
   "source": [
    "### Preprocessing the Test Set\n"
   ]
  },
  {
   "cell_type": "markdown",
   "metadata": {
    "id": "GH5QAskqbLrj"
   },
   "source": [
    "## Part 2 : Building the CNN"
   ]
  },
  {
   "cell_type": "markdown",
   "metadata": {
    "id": "1nSRHIqjbUgO"
   },
   "source": [
    "### Intializing the CNN"
   ]
  },
  {
   "cell_type": "code",
   "execution_count": 5,
   "metadata": {
    "id": "RPc2WO3jYQja"
   },
   "outputs": [],
   "source": [
    "from tensorflow.keras.models import Sequential\n",
    "from tensorflow.keras.layers import Dense,Conv2D"
   ]
  },
  {
   "cell_type": "code",
   "execution_count": 6,
   "metadata": {
    "id": "JIsOb0HkZeJr"
   },
   "outputs": [],
   "source": [
    "cnn=Sequential()"
   ]
  },
  {
   "cell_type": "markdown",
   "metadata": {
    "id": "Z-f0RBrRblRF"
   },
   "source": [
    "### Step 1 : Convolution"
   ]
  },
  {
   "cell_type": "code",
   "execution_count": 7,
   "metadata": {
    "colab": {
     "base_uri": "https://localhost:8080/"
    },
    "id": "MgItO8BbZvPR",
    "outputId": "36574b2a-eaf4-4dda-accc-1685c6a46618"
   },
   "outputs": [],
   "source": [
    "cnn.add(Conv2D(filters=32,kernel_size=3,activation='relu',input_shape=[64,64,3]))"
   ]
  },
  {
   "cell_type": "markdown",
   "metadata": {
    "id": "JnzSabEMbxKY"
   },
   "source": [
    "### Step 2 : Pooling"
   ]
  },
  {
   "cell_type": "code",
   "execution_count": 8,
   "metadata": {
    "id": "P6thySXgaM2u"
   },
   "outputs": [],
   "source": [
    "from tensorflow.keras.layers import MaxPool2D,Flatten"
   ]
  },
  {
   "cell_type": "code",
   "execution_count": 9,
   "metadata": {
    "id": "acsgwTETaEOW"
   },
   "outputs": [],
   "source": [
    "cnn.add(MaxPool2D(pool_size=2,strides=2))"
   ]
  },
  {
   "cell_type": "markdown",
   "metadata": {
    "id": "QM2UiORGb6z8"
   },
   "source": [
    "### Adding a Second Convolution Layer"
   ]
  },
  {
   "cell_type": "code",
   "execution_count": 10,
   "metadata": {
    "colab": {
     "base_uri": "https://localhost:8080/"
    },
    "id": "uHqZFMd4Z_6s",
    "outputId": "960c9d88-52ac-4d69-8c35-cae0a1f92a7f"
   },
   "outputs": [],
   "source": [
    "cnn.add(Conv2D(filters=32,kernel_size=3,activation='relu',input_shape=[64,64,3]))\n",
    "cnn.add(Conv2D(filters=32,kernel_size=3,activation='relu'))"
   ]
  },
  {
   "cell_type": "markdown",
   "metadata": {
    "id": "Ji5UTh_Tb_2F"
   },
   "source": [
    "### Step 3 : Flattenning"
   ]
  },
  {
   "cell_type": "code",
   "execution_count": 11,
   "metadata": {
    "id": "peQdruz1aqH_"
   },
   "outputs": [],
   "source": [
    "cnn.add(Flatten())"
   ]
  },
  {
   "cell_type": "markdown",
   "metadata": {
    "id": "VbLMVna1cF9F"
   },
   "source": [
    "### Step 4 :Full connecton"
   ]
  },
  {
   "cell_type": "code",
   "execution_count": 12,
   "metadata": {
    "id": "K3R0wvwsaf6R"
   },
   "outputs": [],
   "source": [
    "cnn.add(Dense(units=128,activation='relu'))"
   ]
  },
  {
   "cell_type": "markdown",
   "metadata": {
    "id": "rBiy1KP_cRnT"
   },
   "source": [
    "### Step 5 : Output Layer"
   ]
  },
  {
   "cell_type": "code",
   "execution_count": 13,
   "metadata": {
    "id": "HxP8LDaea0qu"
   },
   "outputs": [],
   "source": [
    "cnn.add(Dense(units=1,activation='sigmoid'))"
   ]
  },
  {
   "cell_type": "markdown",
   "metadata": {
    "id": "8lJBfbakcepc"
   },
   "source": [
    "## Part 3 - Training the dataset"
   ]
  },
  {
   "cell_type": "markdown",
   "metadata": {
    "id": "Bp1sFEZ-cnQh"
   },
   "source": [
    "### Compiling the CNN"
   ]
  },
  {
   "cell_type": "code",
   "execution_count": 14,
   "metadata": {
    "id": "fVK8u85reCkR"
   },
   "outputs": [],
   "source": [
    "cnn.compile(optimizer='adam',loss='binary_crossentropy',metrics=['accuracy'])"
   ]
  },
  {
   "cell_type": "markdown",
   "metadata": {
    "id": "m0PK_shWcrLD"
   },
   "source": [
    "### Training the CNN on the training set and evaluating it on the test data"
   ]
  },
  {
   "cell_type": "code",
   "execution_count": 15,
   "metadata": {
    "colab": {
     "base_uri": "https://localhost:8080/",
     "height": 141
    },
    "id": "mWlEdkNZoJXK",
    "outputId": "942e8e89-6543-4f63-82f3-b1565bf48905"
   },
   "outputs": [
    {
     "name": "stdout",
     "output_type": "stream",
     "text": [
      "Epoch 1/25\n",
      "250/250 [==============================] - 57s 222ms/step - loss: 0.6936 - accuracy: 0.5332 - val_loss: 0.6758 - val_accuracy: 0.5850\n",
      "Epoch 2/25\n",
      "250/250 [==============================] - 49s 194ms/step - loss: 0.6717 - accuracy: 0.5845 - val_loss: 0.6595 - val_accuracy: 0.6070\n",
      "Epoch 3/25\n",
      "250/250 [==============================] - 48s 190ms/step - loss: 0.6551 - accuracy: 0.6115 - val_loss: 0.6420 - val_accuracy: 0.6375\n",
      "Epoch 4/25\n",
      "250/250 [==============================] - 51s 205ms/step - loss: 0.6296 - accuracy: 0.6460 - val_loss: 0.6112 - val_accuracy: 0.6675\n",
      "Epoch 5/25\n",
      "250/250 [==============================] - 49s 196ms/step - loss: 0.6123 - accuracy: 0.6644 - val_loss: 0.6029 - val_accuracy: 0.6900\n",
      "Epoch 6/25\n",
      "250/250 [==============================] - 51s 203ms/step - loss: 0.5851 - accuracy: 0.6917 - val_loss: 0.5824 - val_accuracy: 0.6940\n",
      "Epoch 7/25\n",
      "250/250 [==============================] - 55s 221ms/step - loss: 0.5506 - accuracy: 0.7222 - val_loss: 0.5522 - val_accuracy: 0.7260\n",
      "Epoch 8/25\n",
      "250/250 [==============================] - 50s 198ms/step - loss: 0.5292 - accuracy: 0.7305 - val_loss: 0.5500 - val_accuracy: 0.7290\n",
      "Epoch 9/25\n",
      "250/250 [==============================] - 54s 216ms/step - loss: 0.4907 - accuracy: 0.7596 - val_loss: 0.5477 - val_accuracy: 0.7350\n",
      "Epoch 10/25\n",
      "250/250 [==============================] - 49s 198ms/step - loss: 0.4625 - accuracy: 0.7794 - val_loss: 0.5257 - val_accuracy: 0.7435\n",
      "Epoch 11/25\n",
      "250/250 [==============================] - 53s 210ms/step - loss: 0.4438 - accuracy: 0.7916 - val_loss: 0.5171 - val_accuracy: 0.7485\n",
      "Epoch 12/25\n",
      "250/250 [==============================] - 50s 198ms/step - loss: 0.4163 - accuracy: 0.8080 - val_loss: 0.5526 - val_accuracy: 0.7345\n",
      "Epoch 13/25\n",
      "250/250 [==============================] - 60s 238ms/step - loss: 0.3957 - accuracy: 0.8244 - val_loss: 0.5479 - val_accuracy: 0.7595\n",
      "Epoch 14/25\n",
      "250/250 [==============================] - 62s 246ms/step - loss: 0.3693 - accuracy: 0.8315 - val_loss: 0.5300 - val_accuracy: 0.7715\n",
      "Epoch 15/25\n",
      "250/250 [==============================] - 53s 212ms/step - loss: 0.3527 - accuracy: 0.8464 - val_loss: 0.5733 - val_accuracy: 0.7670\n",
      "Epoch 16/25\n",
      "250/250 [==============================] - 56s 225ms/step - loss: 0.3312 - accuracy: 0.8533 - val_loss: 0.5595 - val_accuracy: 0.7560\n",
      "Epoch 17/25\n",
      "250/250 [==============================] - 50s 199ms/step - loss: 0.3098 - accuracy: 0.8692 - val_loss: 0.5641 - val_accuracy: 0.7680\n",
      "Epoch 18/25\n",
      "250/250 [==============================] - 55s 219ms/step - loss: 0.2844 - accuracy: 0.8796 - val_loss: 0.5584 - val_accuracy: 0.7640\n",
      "Epoch 19/25\n",
      "250/250 [==============================] - 56s 225ms/step - loss: 0.2558 - accuracy: 0.8972 - val_loss: 0.6742 - val_accuracy: 0.7690\n",
      "Epoch 20/25\n",
      "250/250 [==============================] - 63s 250ms/step - loss: 0.2606 - accuracy: 0.8924 - val_loss: 0.6922 - val_accuracy: 0.7430\n",
      "Epoch 21/25\n",
      "250/250 [==============================] - 58s 232ms/step - loss: 0.2421 - accuracy: 0.9005 - val_loss: 0.6124 - val_accuracy: 0.7675\n",
      "Epoch 22/25\n",
      "250/250 [==============================] - 61s 243ms/step - loss: 0.2199 - accuracy: 0.9136 - val_loss: 0.7590 - val_accuracy: 0.7375\n",
      "Epoch 23/25\n",
      "250/250 [==============================] - 59s 238ms/step - loss: 0.2172 - accuracy: 0.9133 - val_loss: 0.5964 - val_accuracy: 0.7930\n",
      "Epoch 24/25\n",
      "250/250 [==============================] - 64s 255ms/step - loss: 0.1972 - accuracy: 0.9246 - val_loss: 0.7064 - val_accuracy: 0.7750\n",
      "Epoch 25/25\n",
      "250/250 [==============================] - 56s 223ms/step - loss: 0.1878 - accuracy: 0.9251 - val_loss: 0.7178 - val_accuracy: 0.7630\n"
     ]
    },
    {
     "data": {
      "text/plain": [
       "<keras.src.callbacks.History at 0x712ab9e96500>"
      ]
     },
     "execution_count": 15,
     "metadata": {},
     "output_type": "execute_result"
    }
   ],
   "source": [
    "cnn.fit(x=training_set,validation_data=test_set,epochs=25)"
   ]
  },
  {
   "cell_type": "markdown",
   "metadata": {
    "id": "n6QKebkRc_Lr"
   },
   "source": [
    "## Part 4 - Making a simple prediction"
   ]
  },
  {
   "cell_type": "code",
   "execution_count": 24,
   "metadata": {
    "id": "J7ChSVErceES"
   },
   "outputs": [
    {
     "name": "stdout",
     "output_type": "stream",
     "text": [
      "1/1 [==============================] - 0s 21ms/step\n"
     ]
    }
   ],
   "source": [
    "import numpy as np\n",
    "from keras.preprocessing import image\n",
    "test_image=image.load_img('dataset/single_prediction/cat_or_dog_1.jpg',target_size=(64,64))\n",
    "test_image=image.img_to_array(test_image)\n",
    "test_image=np.expand_dims(test_image,axis=0)\n",
    "result=cnn.predict(test_image)\n",
    "training_set.class_indices\n",
    "if result[0][0] > 0.5:\n",
    "    prediction = \"Dog\"\n",
    "else:\n",
    "    prediction = \"Cat\"\n"
   ]
  },
  {
   "cell_type": "code",
   "execution_count": 22,
   "metadata": {
    "id": "A4Xu3xCZcdZD"
   },
   "outputs": [
    {
     "name": "stdout",
     "output_type": "stream",
     "text": [
      "Dog\n"
     ]
    }
   ],
   "source": [
    "print(prediction)"
   ]
  },
  {
   "cell_type": "code",
   "execution_count": 25,
   "metadata": {
    "id": "0SFJm6L6a41z"
   },
   "outputs": [],
   "source": [
    "# Suppose your model is named `model`\n",
    "cnn.save(\"model/dog_cat_model.h5\")\n"
   ]
  },
  {
   "cell_type": "code",
   "execution_count": null,
   "metadata": {},
   "outputs": [],
   "source": []
  },
  {
   "cell_type": "code",
   "execution_count": null,
   "metadata": {},
   "outputs": [],
   "source": []
  },
  {
   "cell_type": "code",
   "execution_count": null,
   "metadata": {},
   "outputs": [],
   "source": []
  },
  {
   "cell_type": "code",
   "execution_count": null,
   "metadata": {},
   "outputs": [],
   "source": [
    "  "
   ]
  },
  {
   "cell_type": "code",
   "execution_count": null,
   "metadata": {},
   "outputs": [],
   "source": []
  },
  {
   "cell_type": "code",
   "execution_count": null,
   "metadata": {},
   "outputs": [],
   "source": []
  },
  {
   "cell_type": "code",
   "execution_count": null,
   "metadata": {},
   "outputs": [],
   "source": []
  },
  {
   "cell_type": "code",
   "execution_count": null,
   "metadata": {},
   "outputs": [],
   "source": [
    "     "
   ]
  }
 ],
 "metadata": {
  "colab": {
   "provenance": [],
   "toc_visible": true
  },
  "kernelspec": {
   "display_name": "Python 3 (ipykernel)",
   "language": "python",
   "name": "python3"
  },
  "language_info": {
   "codemirror_mode": {
    "name": "ipython",
    "version": 3
   },
   "file_extension": ".py",
   "mimetype": "text/x-python",
   "name": "python",
   "nbconvert_exporter": "python",
   "pygments_lexer": "ipython3",
   "version": "3.10.12"
  }
 },
 "nbformat": 4,
 "nbformat_minor": 4
}
